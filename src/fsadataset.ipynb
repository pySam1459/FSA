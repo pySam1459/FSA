{
 "cells": [
  {
   "cell_type": "code",
   "execution_count": null,
   "id": "ebc4d0b2",
   "metadata": {},
   "outputs": [],
   "source": [
    "import pandas as pd\n",
    "from pathlib import Path\n",
    "from functools import partial\n",
    "from huggingface_hub import constants as hub_c\n",
    "from datasets import Dataset, DatasetDict\n",
    "from transformers import AutoTokenizer\n",
    "\n",
    "model_id = \"meta-llama/Llama-3.2-3B\"\n",
    "tokenizer = AutoTokenizer.from_pretrained(model_id)\n",
    "if tokenizer.pad_token is None:\n",
    "    tokenizer.pad_token = tokenizer.eos_token\n",
    "\n",
    "out_path = Path(\"D:/datasets/fsa\")"
   ]
  },
  {
   "cell_type": "code",
   "execution_count": 2,
   "id": "c893510f",
   "metadata": {},
   "outputs": [],
   "source": [
    "def get_hf_path(dir_: str | Path) -> Path:\n",
    "    path = Path(hub_c.HF_HUB_CACHE) / dir_\n",
    "    with open(path / \"refs\" / \"main\", \"r\") as f_in:\n",
    "        snapshot_ref = f_in.readline()\n",
    "    return path / \"snapshots\" / snapshot_ref"
   ]
  },
  {
   "cell_type": "code",
   "execution_count": 3,
   "id": "79271970",
   "metadata": {},
   "outputs": [],
   "source": [
    "fpb_path = get_hf_path(\"datasets--AdaptLLM--FPB\")\n",
    "fiqa_path = get_hf_path(\"datasets--AdaptLLM--FiQA_SA\")\n",
    "\n",
    "id2label = {\n",
    "    0: \"negative\",\n",
    "    1: \"positive\",\n",
    "    2: \"neutral\"\n",
    "}\n",
    "label2id = {\n",
    "    \"negative\": 0,\n",
    "    \"positive\": 1,\n",
    "    \"neutral\": 2,\n",
    "}"
   ]
  },
  {
   "cell_type": "code",
   "execution_count": 4,
   "id": "57318b6b",
   "metadata": {},
   "outputs": [],
   "source": [
    "def tokenize_func(tokenizer, examples):\n",
    "    return tokenizer(examples[\"text\"])"
   ]
  },
  {
   "cell_type": "code",
   "execution_count": null,
   "id": "a2efbc0b",
   "metadata": {},
   "outputs": [],
   "source": [
    "out_dataset = DatasetDict()\n",
    "for split in [\"train\", \"test\"]:\n",
    "    fpb_df = pd.read_csv(fpb_path / f\"{split}.csv\", delimiter=\"\\t\", index_col=0)\n",
    "    fpb_df[\"label\"] = fpb_df[\"label\"].map(label2id).astype(\"Int16\")\n",
    "\n",
    "    fiqa_df = pd.read_csv(fiqa_path / f\"{split}.csv\", delimiter=\"\\t\", names=[\"text\", \"ticker\", \"label\"]).drop(\"ticker\", axis=\"columns\")\n",
    "    final_df = pd.concat([fpb_df, fiqa_df])\n",
    "    tok_fn = partial(tokenize_func, tokenizer)\n",
    "    out_dataset[split] = (Dataset\n",
    "        .from_pandas(final_df).map(tok_fn,\n",
    "            batched=True,\n",
    "            num_proc=8,\n",
    "            remove_columns=[\"text\"])\n",
    "        .rename_column(\"label\", \"labels\")\n",
    "        .with_format(type=\"torch\", columns=[\"input_ids\", \"attention_mask\", \"labels\"]))\n",
    "\n",
    "out_dataset.save_to_disk(str(out_path))"
   ]
  },
  {
   "cell_type": "code",
   "execution_count": null,
   "id": "6c9364d1",
   "metadata": {},
   "outputs": [],
   "source": []
  }
 ],
 "metadata": {
  "kernelspec": {
   "display_name": "venv",
   "language": "python",
   "name": "python3"
  },
  "language_info": {
   "codemirror_mode": {
    "name": "ipython",
    "version": 3
   },
   "file_extension": ".py",
   "mimetype": "text/x-python",
   "name": "python",
   "nbconvert_exporter": "python",
   "pygments_lexer": "ipython3",
   "version": "3.12.2"
  }
 },
 "nbformat": 4,
 "nbformat_minor": 5
}
